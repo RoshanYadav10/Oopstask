{
 "cells": [
  {
   "cell_type": "code",
   "execution_count": 2,
   "id": "32c4a1de-61da-45ab-8a9b-9bf24c21c60a",
   "metadata": {},
   "outputs": [],
   "source": [
    "'''Q1. Create a vehicle class with an init method having instance variables as name_of_vehicle, max_speed and average_of_vehicle'''\n",
    "\n",
    "class vehicle:\n",
    "    def __init__(self, name_of_vehicle,max_speed,average_of_vehicle):\n",
    "        self.name_of_vehicle = name_of_vehicle\n",
    "        self.max_speed = max_speed\n",
    "        self.average_of_vehicle = average_of_vehicle\n",
    "        "
   ]
  },
  {
   "cell_type": "code",
   "execution_count": 19,
   "id": "19f082f2-e013-4b9f-8e8b-b25451092b27",
   "metadata": {},
   "outputs": [],
   "source": [
    "car=vehicle('thar',240,60)"
   ]
  },
  {
   "cell_type": "code",
   "execution_count": 15,
   "id": "6b0765cf-6b95-4fe8-837e-f5ffca6f6bb8",
   "metadata": {},
   "outputs": [
    {
     "data": {
      "text/plain": [
       "60"
      ]
     },
     "execution_count": 15,
     "metadata": {},
     "output_type": "execute_result"
    }
   ],
   "source": [
    "car.average_of_vehicle"
   ]
  },
  {
   "cell_type": "code",
   "execution_count": 16,
   "id": "cc34a088-0075-4007-9c15-1284915497bd",
   "metadata": {},
   "outputs": [
    {
     "data": {
      "text/plain": [
       "'thar'"
      ]
     },
     "execution_count": 16,
     "metadata": {},
     "output_type": "execute_result"
    }
   ],
   "source": [
    "car.name_of_vehicle"
   ]
  },
  {
   "cell_type": "code",
   "execution_count": 30,
   "id": "7b3ea478-0bc2-454a-a61d-4c41c13ff241",
   "metadata": {},
   "outputs": [
    {
     "data": {
      "text/plain": [
       "240"
      ]
     },
     "execution_count": 30,
     "metadata": {},
     "output_type": "execute_result"
    }
   ],
   "source": [
    "car.max_speed\n"
   ]
  },
  {
   "cell_type": "code",
   "execution_count": 31,
   "id": "ade2c3af-58a0-4b70-880a-0fd2a8ea24d3",
   "metadata": {},
   "outputs": [],
   "source": [
    "'''Q.2 Create a child class car from the vehicle class created in Que 1, which will inherit the vehicle class.\n",
    "Create a method named seating_capacity which takes capacity as an argument and returns the name of\n",
    "the vehicle and its seating capacity.'''\n",
    "\n",
    "class car(vehicle):\n",
    "    def seating_capacity(self,capacity):\n",
    "        return f\"{self.name_of_vehicle} has a seating capacity of {capacity} passengers\"\n"
   ]
  },
  {
   "cell_type": "code",
   "execution_count": 32,
   "id": "3ce7087b-72ec-4948-b625-1b40e36685d3",
   "metadata": {},
   "outputs": [],
   "source": [
    "car=car(\"thar\",240,5)"
   ]
  },
  {
   "cell_type": "code",
   "execution_count": 35,
   "id": "7c6937be-b504-4fd5-88b5-437ed88e6f5b",
   "metadata": {},
   "outputs": [
    {
     "name": "stdout",
     "output_type": "stream",
     "text": [
      "thar has a seating capacity of 5 passengers\n"
     ]
    }
   ],
   "source": [
    "print(car.seating_capacity(5))\n"
   ]
  },
  {
   "cell_type": "code",
   "execution_count": null,
   "id": "edfe4694-4e6e-4051-8dba-3a6bea1c038b",
   "metadata": {},
   "outputs": [],
   "source": [
    "#Q.3What is multiple inheritance? Write a python code to demonstrate multiple inheritance."
   ]
  },
  {
   "cell_type": "code",
   "execution_count": 37,
   "id": "e23c6174-7931-4cb0-9b3c-735e5cbae453",
   "metadata": {},
   "outputs": [],
   "source": [
    "'''Multiple inheritance is a feature in object-oriented programming where a class can inherit attributes and methods from more than one parent class. \n",
    "This allows a child class to inherit and combine functionalities from multiple unrelated classes.'''\n",
    "class animals:\n",
    "        def test_animals(self):\n",
    "            return\"this is my dog\"\n"
   ]
  },
  {
   "cell_type": "code",
   "execution_count": 38,
   "id": "e76efb88-a1ca-4742-a59d-c18612e49b2b",
   "metadata": {},
   "outputs": [],
   "source": [
    "class humans:\n",
    "    def test_hunmans(self):\n",
    "        return\"the humans mind are more intelligent then animals \""
   ]
  },
  {
   "cell_type": "code",
   "execution_count": 39,
   "id": "8c71fad4-efba-4213-babf-547e77cf62a1",
   "metadata": {},
   "outputs": [],
   "source": [
    "class class3(animals,humans):\n",
    "    pass\n"
   ]
  },
  {
   "cell_type": "code",
   "execution_count": 41,
   "id": "68c12d80-bd90-4791-82f4-e5a11eb02a7c",
   "metadata": {},
   "outputs": [],
   "source": [
    "obj_class3=class3()"
   ]
  },
  {
   "cell_type": "code",
   "execution_count": 46,
   "id": "274b94ea-5244-49b0-ba71-92c66effe611",
   "metadata": {},
   "outputs": [
    {
     "data": {
      "text/plain": [
       "'this is my dog'"
      ]
     },
     "execution_count": 46,
     "metadata": {},
     "output_type": "execute_result"
    }
   ],
   "source": [
    "obj_class3.test_animals()"
   ]
  },
  {
   "cell_type": "code",
   "execution_count": 48,
   "id": "0f4d4a07-af54-4dd0-a0cc-09264ccc6e72",
   "metadata": {},
   "outputs": [
    {
     "data": {
      "text/plain": [
       "'the humans mind are more intelligent then animals '"
      ]
     },
     "execution_count": 48,
     "metadata": {},
     "output_type": "execute_result"
    }
   ],
   "source": [
    "obj_class3.test_hunmans()"
   ]
  },
  {
   "cell_type": "code",
   "execution_count": 33,
   "id": "baecfac7-04fb-4062-a545-183f6e6e356d",
   "metadata": {},
   "outputs": [],
   "source": [
    "#Q4. What are getter and setter in python? Create a class and create a getter and a setter method in this class.\n",
    "'''getters and setters are methods used to access and modify the values of class attributes, respectively. \n",
    "They provide a controlled way to access and modify the internal state of an object. Getters are used to retrieve the value of an attribute,\n",
    "and setters are used to set or update the value of an attribute.'''\n",
    "#Example:\n",
    "class Person:\n",
    "    def __init__(self, name):\n",
    "        self._name = name\n",
    "    def get_name(self):\n",
    "        return self._name\n",
    "    \n",
    "    def set_name(self, name):\n",
    "        self._name = name\n"
   ]
  },
  {
   "cell_type": "code",
   "execution_count": 36,
   "id": "cabf6478-0c13-41ca-bc95-bcf0e2b1a705",
   "metadata": {},
   "outputs": [],
   "source": [
    "rosh=Person(\"vinod\")"
   ]
  },
  {
   "cell_type": "code",
   "execution_count": 29,
   "id": "0ec0fbad-c199-45dd-87d9-432e6e6f21f0",
   "metadata": {},
   "outputs": [
    {
     "data": {
      "text/plain": [
       "'vinod'"
      ]
     },
     "execution_count": 29,
     "metadata": {},
     "output_type": "execute_result"
    }
   ],
   "source": [
    "rosh.get_name()"
   ]
  },
  {
   "cell_type": "code",
   "execution_count": 31,
   "id": "4231efbc-fd2b-472e-96ef-e5aeece2b999",
   "metadata": {},
   "outputs": [],
   "source": [
    "rosh.set_name(\"lal\")"
   ]
  },
  {
   "cell_type": "code",
   "execution_count": 37,
   "id": "e1a7d081-5ade-4a3d-afa7-93f354aad314",
   "metadata": {},
   "outputs": [
    {
     "data": {
      "text/plain": [
       "'vinod'"
      ]
     },
     "execution_count": 37,
     "metadata": {},
     "output_type": "execute_result"
    }
   ],
   "source": [
    "rosh.get_name()"
   ]
  },
  {
   "cell_type": "code",
   "execution_count": 39,
   "id": "85ee27e7-2aea-4a3c-99ef-3d821aaae124",
   "metadata": {},
   "outputs": [],
   "source": [
    "rosh.set_name(\"manish\")"
   ]
  },
  {
   "cell_type": "code",
   "execution_count": 41,
   "id": "c14db29d-2e2b-40a4-afc9-9ceade049d03",
   "metadata": {},
   "outputs": [
    {
     "data": {
      "text/plain": [
       "'manish'"
      ]
     },
     "execution_count": 41,
     "metadata": {},
     "output_type": "execute_result"
    }
   ],
   "source": [
    "rosh.get_name()"
   ]
  },
  {
   "cell_type": "code",
   "execution_count": 55,
   "id": "85053379-3b18-4d8c-9894-1f771997a40e",
   "metadata": {},
   "outputs": [],
   "source": [
    "#Q5.What is method overriding in python? Write a python code to demonstrate method overriding.\n",
    "'''Method overriding is a feature in object-oriented programming where a subclass provides a different implementation of a method \n",
    "   that is already defined in its superclass. The overridden method in the subclass has the same name, return type, \n",
    "   and parameters as the method in the superclass.'''\n",
    "#Example:\n",
    "\n",
    "class Animal:\n",
    "    def make_sound(self):\n",
    "        print(\"The animal makes a generic sound.\")\n",
    "\n",
    "class Cat:\n",
    "    def make_sound(self):\n",
    "        print(\"Meow!\")\n",
    "\n",
    "class Dog:\n",
    "    def make_sound(self):\n",
    "        print(\"Woof!\")\n",
    "\n"
   ]
  },
  {
   "cell_type": "code",
   "execution_count": 61,
   "id": "fb35bba3-0a10-4df1-aa78-0ac90f99371d",
   "metadata": {},
   "outputs": [],
   "source": [
    "animal=Animal()\n",
    "cat=Cat()\n",
    "dog=Dog()"
   ]
  },
  {
   "cell_type": "code",
   "execution_count": 63,
   "id": "083556e7-0f8a-4d9f-af62-59ee94a4c056",
   "metadata": {},
   "outputs": [
    {
     "name": "stdout",
     "output_type": "stream",
     "text": [
      "Woof!\n"
     ]
    }
   ],
   "source": [
    "dog.make_sound()"
   ]
  },
  {
   "cell_type": "code",
   "execution_count": 65,
   "id": "368dd786-31b8-41ca-8675-2a64a49312b1",
   "metadata": {},
   "outputs": [
    {
     "name": "stdout",
     "output_type": "stream",
     "text": [
      "Meow!\n"
     ]
    }
   ],
   "source": [
    "cat.make_sound()"
   ]
  },
  {
   "cell_type": "code",
   "execution_count": 66,
   "id": "5327a46f-fa61-49a3-8512-c9acee9c9e57",
   "metadata": {},
   "outputs": [
    {
     "name": "stdout",
     "output_type": "stream",
     "text": [
      "The animal makes a generic sound.\n"
     ]
    }
   ],
   "source": [
    "animal.make_sound()"
   ]
  }
 ],
 "metadata": {
  "kernelspec": {
   "display_name": "Python 3 (ipykernel)",
   "language": "python",
   "name": "python3"
  },
  "language_info": {
   "codemirror_mode": {
    "name": "ipython",
    "version": 3
   },
   "file_extension": ".py",
   "mimetype": "text/x-python",
   "name": "python",
   "nbconvert_exporter": "python",
   "pygments_lexer": "ipython3",
   "version": "3.10.6"
  }
 },
 "nbformat": 4,
 "nbformat_minor": 5
}
